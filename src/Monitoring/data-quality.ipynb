{
 "cells": [
  {
   "cell_type": "code",
   "execution_count": 2,
   "metadata": {},
   "outputs": [
    {
     "name": "stdout",
     "output_type": "stream",
     "text": [
      "^C\n"
     ]
    }
   ],
   "source": [
    "!pip install pandas"
   ]
  },
  {
   "cell_type": "code",
   "execution_count": 27,
   "metadata": {},
   "outputs": [
    {
     "name": "stdout",
     "output_type": "stream",
     "text": [
      "False\n",
      "A     object\n",
      "B    float64\n",
      "F     object\n",
      "dtype: object\n"
     ]
    },
    {
     "ename": "IndexError",
     "evalue": "too many indices for array: array is 1-dimensional, but 2 were indexed",
     "output_type": "error",
     "traceback": [
      "\u001b[1;31m---------------------------------------------------------------------------\u001b[0m",
      "\u001b[1;31mIndexError\u001b[0m                                Traceback (most recent call last)",
      "\u001b[1;32m~\\AppData\\Local\\Temp/ipykernel_3576/2872812785.py\u001b[0m in \u001b[0;36m<module>\u001b[1;34m\u001b[0m\n\u001b[0;32m     58\u001b[0m \u001b[1;32mfor\u001b[0m \u001b[0mname\u001b[0m \u001b[1;32min\u001b[0m \u001b[0mdiff_df\u001b[0m\u001b[1;33m.\u001b[0m\u001b[0mcolname\u001b[0m\u001b[1;33m.\u001b[0m\u001b[0munique\u001b[0m\u001b[1;33m(\u001b[0m\u001b[1;33m)\u001b[0m\u001b[1;33m:\u001b[0m\u001b[1;33m\u001b[0m\u001b[1;33m\u001b[0m\u001b[0m\n\u001b[0;32m     59\u001b[0m         \u001b[0mcolname\u001b[0m \u001b[1;33m=\u001b[0m \u001b[0mname\u001b[0m\u001b[1;33m\u001b[0m\u001b[1;33m\u001b[0m\u001b[0m\n\u001b[1;32m---> 60\u001b[1;33m         \u001b[0mdtype_train\u001b[0m \u001b[1;33m=\u001b[0m \u001b[0mdiff_df\u001b[0m\u001b[1;33m.\u001b[0m\u001b[0mloc\u001b[0m\u001b[1;33m[\u001b[0m\u001b[0mdiff_df\u001b[0m\u001b[1;33m.\u001b[0m\u001b[0mindex\u001b[0m\u001b[1;33m[\u001b[0m\u001b[1;36m0\u001b[0m\u001b[1;33m,\u001b[0m\u001b[1;36m1\u001b[0m\u001b[1;33m]\u001b[0m\u001b[1;33m,\u001b[0m \u001b[0mdiff_df\u001b[0m\u001b[1;33m.\u001b[0m\u001b[0mcolname\u001b[0m\u001b[1;33m==\u001b[0m\u001b[0mname\u001b[0m\u001b[1;33m]\u001b[0m\u001b[1;33m\u001b[0m\u001b[1;33m\u001b[0m\u001b[0m\n\u001b[0m\u001b[0;32m     61\u001b[0m         \u001b[0mdtype_batch\u001b[0m \u001b[1;33m=\u001b[0m \u001b[0mdiff_df\u001b[0m\u001b[1;33m.\u001b[0m\u001b[0mloc\u001b[0m\u001b[1;33m[\u001b[0m\u001b[0mdiff_df\u001b[0m\u001b[1;33m.\u001b[0m\u001b[0mindex\u001b[0m\u001b[1;33m[\u001b[0m\u001b[1;36m0\u001b[0m\u001b[1;33m,\u001b[0m\u001b[1;36m1\u001b[0m\u001b[1;33m]\u001b[0m\u001b[1;33m,\u001b[0m \u001b[0mdiff_df\u001b[0m\u001b[1;33m.\u001b[0m\u001b[0mcolname\u001b[0m\u001b[1;33m==\u001b[0m\u001b[0mname\u001b[0m\u001b[1;33m]\u001b[0m\u001b[1;33m\u001b[0m\u001b[1;33m\u001b[0m\u001b[0m\n\u001b[0;32m     62\u001b[0m         \u001b[0mprint\u001b[0m\u001b[1;33m(\u001b[0m\u001b[1;34mf'Column \"{colname}\" has dtype \"{dtype_train}\" in the train set whereas it has dtype \"{dtype_batch}\" in the new batch.'\u001b[0m\u001b[1;33m)\u001b[0m\u001b[1;33m\u001b[0m\u001b[1;33m\u001b[0m\u001b[0m\n",
      "\u001b[1;32mc:\\Users\\nicol\\OneDrive\\Bureau\\monitoring-project\\quinten\\lib\\site-packages\\pandas\\core\\indexes\\range.py\u001b[0m in \u001b[0;36m__getitem__\u001b[1;34m(self, key)\u001b[0m\n\u001b[0;32m    837\u001b[0m             )\n\u001b[0;32m    838\u001b[0m         \u001b[1;31m# fall back to Int64Index\u001b[0m\u001b[1;33m\u001b[0m\u001b[1;33m\u001b[0m\u001b[1;33m\u001b[0m\u001b[0m\n\u001b[1;32m--> 839\u001b[1;33m         \u001b[1;32mreturn\u001b[0m \u001b[0msuper\u001b[0m\u001b[1;33m(\u001b[0m\u001b[1;33m)\u001b[0m\u001b[1;33m.\u001b[0m\u001b[0m__getitem__\u001b[0m\u001b[1;33m(\u001b[0m\u001b[0mkey\u001b[0m\u001b[1;33m)\u001b[0m\u001b[1;33m\u001b[0m\u001b[1;33m\u001b[0m\u001b[0m\n\u001b[0m\u001b[0;32m    840\u001b[0m \u001b[1;33m\u001b[0m\u001b[0m\n\u001b[0;32m    841\u001b[0m     \u001b[1;32mdef\u001b[0m \u001b[0m_getitem_slice\u001b[0m\u001b[1;33m(\u001b[0m\u001b[0mself\u001b[0m\u001b[1;33m:\u001b[0m \u001b[0mRangeIndex\u001b[0m\u001b[1;33m,\u001b[0m \u001b[0mslobj\u001b[0m\u001b[1;33m:\u001b[0m \u001b[0mslice\u001b[0m\u001b[1;33m)\u001b[0m \u001b[1;33m->\u001b[0m \u001b[0mRangeIndex\u001b[0m\u001b[1;33m:\u001b[0m\u001b[1;33m\u001b[0m\u001b[1;33m\u001b[0m\u001b[0m\n",
      "\u001b[1;32mc:\\Users\\nicol\\OneDrive\\Bureau\\monitoring-project\\quinten\\lib\\site-packages\\pandas\\core\\indexes\\base.py\u001b[0m in \u001b[0;36m__getitem__\u001b[1;34m(self, key)\u001b[0m\n\u001b[0;32m   4614\u001b[0m             \u001b[0mkey\u001b[0m \u001b[1;33m=\u001b[0m \u001b[0mnp\u001b[0m\u001b[1;33m.\u001b[0m\u001b[0masarray\u001b[0m\u001b[1;33m(\u001b[0m\u001b[0mkey\u001b[0m\u001b[1;33m,\u001b[0m \u001b[0mdtype\u001b[0m\u001b[1;33m=\u001b[0m\u001b[0mbool\u001b[0m\u001b[1;33m)\u001b[0m\u001b[1;33m\u001b[0m\u001b[1;33m\u001b[0m\u001b[0m\n\u001b[0;32m   4615\u001b[0m \u001b[1;33m\u001b[0m\u001b[0m\n\u001b[1;32m-> 4616\u001b[1;33m         \u001b[0mresult\u001b[0m \u001b[1;33m=\u001b[0m \u001b[0mgetitem\u001b[0m\u001b[1;33m(\u001b[0m\u001b[0mkey\u001b[0m\u001b[1;33m)\u001b[0m\u001b[1;33m\u001b[0m\u001b[1;33m\u001b[0m\u001b[0m\n\u001b[0m\u001b[0;32m   4617\u001b[0m         \u001b[1;32mif\u001b[0m \u001b[1;32mnot\u001b[0m \u001b[0mis_scalar\u001b[0m\u001b[1;33m(\u001b[0m\u001b[0mresult\u001b[0m\u001b[1;33m)\u001b[0m\u001b[1;33m:\u001b[0m\u001b[1;33m\u001b[0m\u001b[1;33m\u001b[0m\u001b[0m\n\u001b[0;32m   4618\u001b[0m             \u001b[1;31m# error: Argument 1 to \"ndim\" has incompatible type \"Union[ExtensionArray,\u001b[0m\u001b[1;33m\u001b[0m\u001b[1;33m\u001b[0m\u001b[1;33m\u001b[0m\u001b[0m\n",
      "\u001b[1;31mIndexError\u001b[0m: too many indices for array: array is 1-dimensional, but 2 were indexed"
     ]
    }
   ],
   "source": [
    "import pandas as pd\n",
    "\n",
    "df1 = pd.DataFrame({\n",
    "        'A':list('abcdef'),\n",
    "         'B':[4,5,4,5,5,4],\n",
    "         'F':list('aaabbb')\n",
    "})\n",
    "\n",
    "df2 = pd.DataFrame({\n",
    "        'A':list('abcdef'),\n",
    "         'B':[4,5,4,5,5,4],\n",
    "         'F':list('aaabbb')\n",
    "})\n",
    "\n",
    "df3 = pd.DataFrame({\n",
    "        'A':list('abcdef'),\n",
    "         'B':[4.0,5,4,5,5,4],\n",
    "         'F':list('aaabbb')\n",
    "})\n",
    "\n",
    "df4 = pd.DataFrame({\n",
    "        'A':list('abcdef'),\n",
    "         'C':[4,5,4,5,5,4],\n",
    "         'F':list('aaabbb')\n",
    "})\n",
    "\n",
    "def check_colames(sample_df: pd.DataFrame, \n",
    "                batch_df: pd.DataFrame) -> bool:\n",
    "        if sample_df.dtypes.equals(batch_df.dtypes):\n",
    "                same_colnames = True\n",
    "\n",
    "\n",
    "def check_dtypes(sample_df: pd.DataFrame, \n",
    "                batch_df: pd.DataFrame) -> bool:\n",
    "        if sample_df.dtypes.equals(batch_df.dtypes):\n",
    "                same_dtypes = True\n",
    "        else:\n",
    "                diff_df = pd.concat([df1.dtypes, df3.dtypes]).drop_duplicates(keep=False).reset_index()\n",
    "                diff_df.columns = [\"colname\", \"dtype\"]\n",
    "                for name in diff_df.colname.unique():\n",
    "                        colname = name\n",
    "                        dtype_train = diff_df.loc[diff_df.colname==name].iloc[0,1]\n",
    "                        dtype_batch = diff_df.loc[diff_df.colname==name].iloc[1,1]\n",
    "                        print(f'Column \"{colname}\" has dtype \"{dtype_train}\" in the train set whereas it has dtype \"{dtype_batch}\" in the new batch.')\n",
    "\n",
    "\n",
    "def findNaNCols(batch_df: pd.DataFrame) -> bool:\n",
    "    for col in df:\n",
    "        print(f\"Column: {col}\")\n",
    "        num_NaNs = df[col].isnull().sum()\n",
    "        print(f\"Number of NaNs: {num_NaNs}\")\n",
    "\n",
    "\n",
    "print(df1.dtypes.equals(df3.dtypes))\n",
    "print(df3.dtypes)\n",
    "\n"
   ]
  },
  {
   "cell_type": "code",
   "execution_count": 5,
   "metadata": {},
   "outputs": [
    {
     "name": "stdout",
     "output_type": "stream",
     "text": [
      "False\n"
     ]
    }
   ],
   "source": [
    "import pandas as pd\n",
    "\n",
    "df1 = pd.DataFrame({\n",
    "        'A':list('abcdef'),\n",
    "         'B':[4,5,4,5,5,4],\n",
    "         'F':list('aaabbb')\n",
    "})\n",
    "\n",
    "df2 = pd.DataFrame({\n",
    "        'A':list('abcdef'),\n",
    "         'B':[4,5,4,5,5,4],\n",
    "         'F':list('aaabbb')\n",
    "})\n",
    "\n",
    "df3 = pd.DataFrame({\n",
    "        'A':list('abcdef'),\n",
    "         'B':[4.0,5,4,5,5,4],\n",
    "         'F':list('aaabbb')\n",
    "})\n",
    "\n",
    "df4 = pd.DataFrame({\n",
    "        'A':list('abcdef'),\n",
    "         'C':[4,5,4,5,5,4],\n",
    "         'F':list('aaabbb')\n",
    "})\n",
    "\n",
    "\n",
    "print(df1.columns.equals(df4.columns))"
   ]
  },
  {
   "cell_type": "code",
   "execution_count": 10,
   "metadata": {},
   "outputs": [
    {
     "name": "stderr",
     "output_type": "stream",
     "text": [
      "WARNING:root:This is a warning message\n",
      "ERROR:root:This is an error message\n",
      "CRITICAL:root:This is a critical message\n"
     ]
    }
   ],
   "source": [
    "import logging\n",
    "\n",
    "logging.debug('This is a debug message')\n",
    "logging.info('This is an info message')\n",
    "logging.warning('This is a warning message')\n",
    "logging.error('This is an error message')\n",
    "logging.critical('This is a critical message')"
   ]
  }
 ],
 "metadata": {
  "interpreter": {
   "hash": "137fe30d34249ad48f304e19a46d3f804859885dda0e788078b80c6ef98fd1e2"
  },
  "kernelspec": {
   "display_name": "Python 3.8.10 64-bit ('quinten': venv)",
   "name": "python3"
  },
  "language_info": {
   "codemirror_mode": {
    "name": "ipython",
    "version": 3
   },
   "file_extension": ".py",
   "mimetype": "text/x-python",
   "name": "python",
   "nbconvert_exporter": "python",
   "pygments_lexer": "ipython3",
   "version": "3.8.10"
  },
  "orig_nbformat": 4
 },
 "nbformat": 4,
 "nbformat_minor": 2
}
