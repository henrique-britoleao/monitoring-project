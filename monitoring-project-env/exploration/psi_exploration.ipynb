{
 "cells": [
  {
   "cell_type": "code",
   "execution_count": 98,
   "source": [
    "# import libraries\n",
    "import pandas as pd\n",
    "import seaborn as sns\n",
    "import numpy as np\n",
    "import psi"
   ],
   "outputs": [],
   "metadata": {}
  },
  {
   "cell_type": "code",
   "execution_count": 73,
   "source": [
    "mark = pd.read_csv('/Applications/documents bob/MSc Data Science/HEC/Data mgmt/monitoring-project/monitoring-project-env/Pipeline_Quinten/Inputs/marketing_data.csv', sep=';', index_col=0)\n"
   ],
   "outputs": [],
   "metadata": {}
  },
  {
   "cell_type": "code",
   "execution_count": 74,
   "source": [
    "mark.reset_index(inplace=True)"
   ],
   "outputs": [],
   "metadata": {}
  },
  {
   "cell_type": "code",
   "execution_count": 134,
   "source": [
    "mark_sim = mark.sample(n=400)"
   ],
   "outputs": [],
   "metadata": {}
  },
  {
   "cell_type": "code",
   "execution_count": 80,
   "source": [
    "# df value counts mark\n",
    "counts_dev = pd.DataFrame(data={'Response': [0, 1], 'Count': [mark['Response'].value_counts(normalize=True)[0], mark['Response'].value_counts(normalize=True)[1]]})\n",
    "# df value counts new dataset\n",
    "counts_new = pd.DataFrame(data={'Response': [0, 1], 'Count': [mark_sim['Response'].value_counts(normalize=True)[0], mark_sim['Response'].value_counts(normalize=True)[1]]})\n",
    "\n",
    "# plot distribution of classes on top of each other \n",
    "plot = sns.barplot(data=counts_dev, x='Response', y='Count', alpha=0.5)\n",
    "plot = sns.barplot(data=counts_new, x='Response', y='Count')\n",
    "sns.despine(left=True)"
   ],
   "outputs": [
    {
     "output_type": "display_data",
     "data": {
      "image/png": "[encoded data removed]",
      "text/plain": [
       "<Figure size 432x288 with 1 Axes>"
      ]
     },
     "metadata": {}
    }
   ],
   "metadata": {}
  },
  {
   "cell_type": "code",
   "execution_count": 81,
   "source": [
    "dev_counts = np.histogram(mark['Response'], bins=2)[0]\n",
    "new_counts = np.histogram(mark_sim['Response'], bins=2)[0]\n",
    "breakpoints = [0,1]"
   ],
   "outputs": [],
   "metadata": {}
  },
  {
   "cell_type": "code",
   "execution_count": 82,
   "source": [
    "df = pd.DataFrame({'Bucket': [0, 1], 'Breakpoint Value':breakpoints, 'Initial Count':dev_counts, 'New Count':new_counts})\n",
    "df['Initial Percent'] = df['Initial Count'] / mark.shape[0]\n",
    "df['New Percent'] = df['New Count'] / mark_sim.shape[0]\n",
    "df"
   ],
   "outputs": [
    {
     "output_type": "execute_result",
     "data": {
      "text/html": [
       "<div>\n",
       "<style scoped>\n",
       "    .dataframe tbody tr th:only-of-type {\n",
       "        vertical-align: middle;\n",
       "    }\n",
       "\n",
       "    .dataframe tbody tr th {\n",
       "        vertical-align: top;\n",
       "    }\n",
       "\n",
       "    .dataframe thead th {\n",
       "        text-align: right;\n",
       "    }\n",
       "</style>\n",
       "<table border=\"1\" class=\"dataframe\">\n",
       "  <thead>\n",
       "    <tr style=\"text-align: right;\">\n",
       "      <th></th>\n",
       "      <th>Bucket</th>\n",
       "      <th>Breakpoint Value</th>\n",
       "      <th>Initial Count</th>\n",
       "      <th>New Count</th>\n",
       "      <th>Initial Percent</th>\n",
       "      <th>New Percent</th>\n",
       "    </tr>\n",
       "  </thead>\n",
       "  <tbody>\n",
       "    <tr>\n",
       "      <th>0</th>\n",
       "      <td>0</td>\n",
       "      <td>0</td>\n",
       "      <td>917</td>\n",
       "      <td>245</td>\n",
       "      <td>0.843606</td>\n",
       "      <td>0.816667</td>\n",
       "    </tr>\n",
       "    <tr>\n",
       "      <th>1</th>\n",
       "      <td>1</td>\n",
       "      <td>1</td>\n",
       "      <td>170</td>\n",
       "      <td>55</td>\n",
       "      <td>0.156394</td>\n",
       "      <td>0.183333</td>\n",
       "    </tr>\n",
       "  </tbody>\n",
       "</table>\n",
       "</div>"
      ],
      "text/plain": [
       "   Bucket  Breakpoint Value  Initial Count  New Count  Initial Percent  \\\n",
       "0       0                 0            917        245         0.843606   \n",
       "1       1                 1            170         55         0.156394   \n",
       "\n",
       "   New Percent  \n",
       "0     0.816667  \n",
       "1     0.183333  "
      ]
     },
     "metadata": {},
     "execution_count": 82
    }
   ],
   "metadata": {}
  },
  {
   "cell_type": "code",
   "execution_count": 83,
   "source": [
    "df['PSI'] = (df['New Percent'] - df['Initial Percent']) * np.log(df['New Percent'] / df['Initial Percent'])\n"
   ],
   "outputs": [],
   "metadata": {}
  },
  {
   "cell_type": "code",
   "execution_count": 84,
   "source": [
    "df"
   ],
   "outputs": [
    {
     "output_type": "execute_result",
     "data": {
      "text/html": [
       "<div>\n",
       "<style scoped>\n",
       "    .dataframe tbody tr th:only-of-type {\n",
       "        vertical-align: middle;\n",
       "    }\n",
       "\n",
       "    .dataframe tbody tr th {\n",
       "        vertical-align: top;\n",
       "    }\n",
       "\n",
       "    .dataframe thead th {\n",
       "        text-align: right;\n",
       "    }\n",
       "</style>\n",
       "<table border=\"1\" class=\"dataframe\">\n",
       "  <thead>\n",
       "    <tr style=\"text-align: right;\">\n",
       "      <th></th>\n",
       "      <th>Bucket</th>\n",
       "      <th>Breakpoint Value</th>\n",
       "      <th>Initial Count</th>\n",
       "      <th>New Count</th>\n",
       "      <th>Initial Percent</th>\n",
       "      <th>New Percent</th>\n",
       "      <th>PSI</th>\n",
       "    </tr>\n",
       "  </thead>\n",
       "  <tbody>\n",
       "    <tr>\n",
       "      <th>0</th>\n",
       "      <td>0</td>\n",
       "      <td>0</td>\n",
       "      <td>917</td>\n",
       "      <td>245</td>\n",
       "      <td>0.843606</td>\n",
       "      <td>0.816667</td>\n",
       "      <td>0.000874</td>\n",
       "    </tr>\n",
       "    <tr>\n",
       "      <th>1</th>\n",
       "      <td>1</td>\n",
       "      <td>1</td>\n",
       "      <td>170</td>\n",
       "      <td>55</td>\n",
       "      <td>0.156394</td>\n",
       "      <td>0.183333</td>\n",
       "      <td>0.004281</td>\n",
       "    </tr>\n",
       "  </tbody>\n",
       "</table>\n",
       "</div>"
      ],
      "text/plain": [
       "   Bucket  Breakpoint Value  Initial Count  New Count  Initial Percent  \\\n",
       "0       0                 0            917        245         0.843606   \n",
       "1       1                 1            170         55         0.156394   \n",
       "\n",
       "   New Percent       PSI  \n",
       "0     0.816667  0.000874  \n",
       "1     0.183333  0.004281  "
      ]
     },
     "metadata": {},
     "execution_count": 84
    }
   ],
   "metadata": {}
  },
  {
   "cell_type": "code",
   "execution_count": 90,
   "source": [
    "avg_psi = np.average(df['PSI'])\n",
    "print(np.round(avg_psi, 3))"
   ],
   "outputs": [
    {
     "output_type": "stream",
     "name": "stdout",
     "text": [
      "0.003\n"
     ]
    }
   ],
   "metadata": {}
  },
  {
   "cell_type": "markdown",
   "source": [
    "## PSI for classification probability"
   ],
   "metadata": {}
  },
  {
   "cell_type": "code",
   "execution_count": 108,
   "source": [
    "# load dev dataset with prediction\n",
    "dev_pred = pd.read_csv('/Applications/documents bob/MSc Data Science/HEC/Data mgmt/monitoring-project/monitoring-project-env/Pipeline_Quinten/Inputs/dev_pred.csv', index_col=0).reset_index(drop=True)"
   ],
   "outputs": [],
   "metadata": {}
  },
  {
   "cell_type": "code",
   "execution_count": 110,
   "source": [
    "# create artificial sample to imitate new batch\n",
    "new_pred = dev_pred.sample(n=400)"
   ],
   "outputs": [],
   "metadata": {}
  },
  {
   "cell_type": "code",
   "execution_count": 112,
   "source": [
    "# save array of probabilites of no response (0)\n",
    "dev_prob = dev_pred['Proba 0']\n",
    "new_prob = new_pred['Proba 0']\n",
    "\n",
    "# plot density distribution of both sets\n",
    "plot = sns.kdeplot(dev_prob, shade=True)\n",
    "plot = sns.kdeplot(new_prob, shade=True)\n",
    "sns.despine(left=True)"
   ],
   "outputs": [
    {
     "output_type": "display_data",
     "data": {
      "image/png": "[encoded data removed]",
      "text/plain": [
       "<Figure size 432x288 with 1 Axes>"
      ]
     },
     "metadata": {}
    }
   ],
   "metadata": {}
  },
  {
   "cell_type": "code",
   "execution_count": 141,
   "source": [
    "def scale_range (input, min, max):\n",
    "    input += -(np.min(input))\n",
    "    input /= np.max(input) / (max - min)\n",
    "    input += min\n",
    "    return input\n",
    "\n",
    "# define number of buckets for distribution comparison\n",
    "buckets = 10\n",
    "\n",
    "# define probability breakpoints for each bucket \n",
    "raw_breakpoints = np.arange(0, buckets + 1) / (buckets) * 100\n",
    "breakpoints = scale_range(raw_breakpoints, np.min(dev_prob), np.max(dev_prob))"
   ],
   "outputs": [],
   "metadata": {}
  },
  {
   "cell_type": "code",
   "execution_count": 115,
   "source": [
    "# value count of probabilities for each bucket\n",
    "dev_counts = np.histogram(dev_prob, breakpoints)[0]\n",
    "new_counts = np.histogram(new_prob, breakpoints)[0]"
   ],
   "outputs": [],
   "metadata": {}
  },
  {
   "cell_type": "code",
   "execution_count": 125,
   "source": [
    "# create dataframe with buckets for each breakpoint value, counts for dev and new probabilities\n",
    "psi_df = pd.DataFrame({'Bucket': np.arange(1, 11), 'Breakpoint Value':breakpoints[1:], 'Initial Count':dev_counts, 'New Count':new_counts})\n",
    "psi_df['Initial Percent'] = psi_df['Initial Count'] / len(dev_prob)\n",
    "psi_df['New Percent'] = psi_df['New Count'] / len(new_prob)"
   ],
   "outputs": [],
   "metadata": {}
  },
  {
   "cell_type": "code",
   "execution_count": 128,
   "source": [
    "# prep table for barplot representation\n",
    "percents = psi_df[['Initial Percent', 'New Percent', 'Bucket']] \\\n",
    "             .melt(id_vars=['Bucket']) \\\n",
    "             .rename(columns={'variable':'Population', 'value':'Percent'})\n",
    "\n",
    "p = sns.barplot(x=\"Bucket\", y=\"Percent\", hue=\"Population\", data=percents)\n",
    "p.set(xlabel='Bucket', ylabel='Population Percent')\n",
    "sns.despine(left=True)"
   ],
   "outputs": [
    {
     "output_type": "display_data",
     "data": {
      "image/png": "[encoded data removed]",
      "text/plain": [
       "<Figure size 432x288 with 1 Axes>"
      ]
     },
     "metadata": {}
    }
   ],
   "metadata": {}
  },
  {
   "cell_type": "code",
   "execution_count": 129,
   "source": [
    "# add psi value to each bucket\n",
    "psi_df['PSI'] = (psi_df['New Percent'] - psi_df['Initial Percent']) * np.log(psi_df['New Percent'] / psi_df['Initial Percent'])"
   ],
   "outputs": [],
   "metadata": {}
  },
  {
   "cell_type": "code",
   "execution_count": 130,
   "source": [
    "psi_df"
   ],
   "outputs": [
    {
     "output_type": "execute_result",
     "data": {
      "text/html": [
       "<div>\n",
       "<style scoped>\n",
       "    .dataframe tbody tr th:only-of-type {\n",
       "        vertical-align: middle;\n",
       "    }\n",
       "\n",
       "    .dataframe tbody tr th {\n",
       "        vertical-align: top;\n",
       "    }\n",
       "\n",
       "    .dataframe thead th {\n",
       "        text-align: right;\n",
       "    }\n",
       "</style>\n",
       "<table border=\"1\" class=\"dataframe\">\n",
       "  <thead>\n",
       "    <tr style=\"text-align: right;\">\n",
       "      <th></th>\n",
       "      <th>Bucket</th>\n",
       "      <th>Breakpoint Value</th>\n",
       "      <th>Initial Count</th>\n",
       "      <th>New Count</th>\n",
       "      <th>Initial Percent</th>\n",
       "      <th>New Percent</th>\n",
       "      <th>PSI</th>\n",
       "    </tr>\n",
       "  </thead>\n",
       "  <tbody>\n",
       "    <tr>\n",
       "      <th>0</th>\n",
       "      <td>1</td>\n",
       "      <td>0.232978</td>\n",
       "      <td>13</td>\n",
       "      <td>7</td>\n",
       "      <td>0.011960</td>\n",
       "      <td>0.0175</td>\n",
       "      <td>0.002109</td>\n",
       "    </tr>\n",
       "    <tr>\n",
       "      <th>1</th>\n",
       "      <td>2</td>\n",
       "      <td>0.317888</td>\n",
       "      <td>19</td>\n",
       "      <td>12</td>\n",
       "      <td>0.017479</td>\n",
       "      <td>0.0300</td>\n",
       "      <td>0.006763</td>\n",
       "    </tr>\n",
       "    <tr>\n",
       "      <th>2</th>\n",
       "      <td>3</td>\n",
       "      <td>0.402798</td>\n",
       "      <td>19</td>\n",
       "      <td>10</td>\n",
       "      <td>0.017479</td>\n",
       "      <td>0.0250</td>\n",
       "      <td>0.002691</td>\n",
       "    </tr>\n",
       "    <tr>\n",
       "      <th>3</th>\n",
       "      <td>4</td>\n",
       "      <td>0.487708</td>\n",
       "      <td>17</td>\n",
       "      <td>5</td>\n",
       "      <td>0.015639</td>\n",
       "      <td>0.0125</td>\n",
       "      <td>0.000703</td>\n",
       "    </tr>\n",
       "    <tr>\n",
       "      <th>4</th>\n",
       "      <td>5</td>\n",
       "      <td>0.572618</td>\n",
       "      <td>39</td>\n",
       "      <td>14</td>\n",
       "      <td>0.035879</td>\n",
       "      <td>0.0350</td>\n",
       "      <td>0.000022</td>\n",
       "    </tr>\n",
       "    <tr>\n",
       "      <th>5</th>\n",
       "      <td>6</td>\n",
       "      <td>0.657528</td>\n",
       "      <td>35</td>\n",
       "      <td>12</td>\n",
       "      <td>0.032199</td>\n",
       "      <td>0.0300</td>\n",
       "      <td>0.000156</td>\n",
       "    </tr>\n",
       "    <tr>\n",
       "      <th>6</th>\n",
       "      <td>7</td>\n",
       "      <td>0.742438</td>\n",
       "      <td>49</td>\n",
       "      <td>20</td>\n",
       "      <td>0.045078</td>\n",
       "      <td>0.0500</td>\n",
       "      <td>0.000510</td>\n",
       "    </tr>\n",
       "    <tr>\n",
       "      <th>7</th>\n",
       "      <td>8</td>\n",
       "      <td>0.827348</td>\n",
       "      <td>120</td>\n",
       "      <td>43</td>\n",
       "      <td>0.110396</td>\n",
       "      <td>0.1075</td>\n",
       "      <td>0.000077</td>\n",
       "    </tr>\n",
       "    <tr>\n",
       "      <th>8</th>\n",
       "      <td>9</td>\n",
       "      <td>0.912258</td>\n",
       "      <td>229</td>\n",
       "      <td>79</td>\n",
       "      <td>0.210672</td>\n",
       "      <td>0.1975</td>\n",
       "      <td>0.000850</td>\n",
       "    </tr>\n",
       "    <tr>\n",
       "      <th>9</th>\n",
       "      <td>10</td>\n",
       "      <td>0.997168</td>\n",
       "      <td>547</td>\n",
       "      <td>198</td>\n",
       "      <td>0.503220</td>\n",
       "      <td>0.4950</td>\n",
       "      <td>0.000135</td>\n",
       "    </tr>\n",
       "  </tbody>\n",
       "</table>\n",
       "</div>"
      ],
      "text/plain": [
       "   Bucket  Breakpoint Value  Initial Count  New Count  Initial Percent  \\\n",
       "0       1          0.232978             13          7         0.011960   \n",
       "1       2          0.317888             19         12         0.017479   \n",
       "2       3          0.402798             19         10         0.017479   \n",
       "3       4          0.487708             17          5         0.015639   \n",
       "4       5          0.572618             39         14         0.035879   \n",
       "5       6          0.657528             35         12         0.032199   \n",
       "6       7          0.742438             49         20         0.045078   \n",
       "7       8          0.827348            120         43         0.110396   \n",
       "8       9          0.912258            229         79         0.210672   \n",
       "9      10          0.997168            547        198         0.503220   \n",
       "\n",
       "   New Percent       PSI  \n",
       "0       0.0175  0.002109  \n",
       "1       0.0300  0.006763  \n",
       "2       0.0250  0.002691  \n",
       "3       0.0125  0.000703  \n",
       "4       0.0350  0.000022  \n",
       "5       0.0300  0.000156  \n",
       "6       0.0500  0.000510  \n",
       "7       0.1075  0.000077  \n",
       "8       0.1975  0.000850  \n",
       "9       0.4950  0.000135  "
      ]
     },
     "metadata": {},
     "execution_count": 130
    }
   ],
   "metadata": {}
  },
  {
   "cell_type": "code",
   "execution_count": 133,
   "source": [
    "# get overall PSI\n",
    "psi_total = np.round(sum(psi_df['PSI']), 3)\n",
    "psi_total"
   ],
   "outputs": [
    {
     "output_type": "execute_result",
     "data": {
      "text/plain": [
       "0.014"
      ]
     },
     "metadata": {},
     "execution_count": 133
    }
   ],
   "metadata": {}
  }
 ],
 "metadata": {
  "orig_nbformat": 4,
  "language_info": {
   "name": "python",
   "version": "3.7.3",
   "mimetype": "text/x-python",
   "codemirror_mode": {
    "name": "ipython",
    "version": 3
   },
   "pygments_lexer": "ipython3",
   "nbconvert_exporter": "python",
   "file_extension": ".py"
  },
  "kernelspec": {
   "name": "python3",
   "display_name": "Python 3.7.3 64-bit ('monitoring-project-mb-p4Qpj4ws-py3.7': poetry)"
  },
  "interpreter": {
   "hash": "2c492ce97a9aeaf0034cd9128c8895678c5ed4120ecd02088a7baaa365269c4f"
  }
 },
 "nbformat": 4,
 "nbformat_minor": 2
}